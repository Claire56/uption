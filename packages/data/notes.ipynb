{
 "cells": [
  {
   "cell_type": "code",
   "execution_count": null,
   "metadata": {},
   "outputs": [],
   "source": []
  },
  {
   "cell_type": "markdown",
   "metadata": {},
   "source": [
    "#NOtes\n",
    "* Get columns send them to a file \n",
    "* There 49 columns \n",
    "* Get numerical column 35, categorical cols too- append to file 14\n",
    "* columns with missing values\n",
    "* Columns to drop ['id','object_id','status','state_code', 'city', 'state_code.1','name','zip_code', 'closed_at','latitude', 'longitude','Unnamed: 0','Unnamed: 6','founded_at','first_funding_at', 'last_funding_at']\n",
    "* \n"
   ]
  }
 ],
 "metadata": {
  "kernelspec": {
   "display_name": "Python 3.8.10 ('env': venv)",
   "language": "python",
   "name": "python3"
  },
  "language_info": {
   "name": "python",
   "version": "3.8.10"
  },
  "orig_nbformat": 4,
  "vscode": {
   "interpreter": {
    "hash": "5e9d02ab25b6ceba73919c70270f54640821b54a688100fd07e0d53f9430c62c"
   }
  }
 },
 "nbformat": 4,
 "nbformat_minor": 2
}
